{
 "cells": [
  {
   "cell_type": "markdown",
   "id": "54491bd8-13f5-426c-b1ee-754356d7314b",
   "metadata": {},
   "source": [
    "# PyBank (Required)\n",
    "In this activity, you are tasked with creating a Python script for analyzing the financial records of your company. \n",
    "You will be provided with a financial dataset in this file: budget_data.csv. \n",
    "This dataset is composed of two columns, Date and Profit/Losses.\n",
    "\n",
    "## Your task is to create a Python script that analyzes the records to calculate each of the following:\n",
    "    1. The total number of months included in the dataset.\n",
    "    2. The net total amount of Profit/Losses over the entire period.\n",
    "    3. The average of the changes in Profit/Losses over the entire period.\n",
    "    4. The greatest increase in profits (date and amount) over the entire period.\n",
    "    5. The greatest decrease in losses (date and amount) over the entire period."
   ]
  },
  {
   "cell_type": "markdown",
   "id": "0a7febad-33f2-47d9-add2-bc0257c809aa",
   "metadata": {},
   "source": [
    "## Import Libraties"
   ]
  },
  {
   "cell_type": "code",
   "execution_count": 1,
   "id": "35fc761c-1990-4068-93e1-f58b58c7a86f",
   "metadata": {},
   "outputs": [],
   "source": [
    "import os \n",
    "import csv"
   ]
  },
  {
   "cell_type": "markdown",
   "id": "9d7142ab-a772-4ad9-b196-0c1322b65054",
   "metadata": {},
   "source": [
    "## Read the .csv File"
   ]
  },
  {
   "cell_type": "code",
   "execution_count": 2,
   "id": "b9ee7514-f3d1-4f3f-8db0-422a0e04c39b",
   "metadata": {},
   "outputs": [],
   "source": [
    "# csv file name\n",
    "filename = os.path.join(\"Data\", \"budget_data.csv\")\n",
    " \n",
    "# initializing the titles and rows list\n",
    "fields = []\n",
    "rows = []\n",
    " \n",
    "# reading csv file\n",
    "with open(filename, 'r') as csvfile:\n",
    "    # creating a csv reader object\n",
    "    csvreader = csv.reader(csvfile)\n",
    "     \n",
    "    # extracting field names through first row --> Add Field Names to a List\n",
    "    fields = next(csvreader)\n",
    " \n",
    "    # extracting each data row one by one --> Create a List of Rows where each Row is a List of Values\n",
    "    for row in csvreader:\n",
    "        rows.append(row)\n"
   ]
  },
  {
   "cell_type": "markdown",
   "id": "988167f6-1fd2-43b0-a8ab-cf7acbabf7c9",
   "metadata": {},
   "source": [
    "## Question 1. The total number of months included in the dataset."
   ]
  },
  {
   "cell_type": "code",
   "execution_count": 3,
   "id": "c4e20cdc-a681-4808-a024-177be0d0541c",
   "metadata": {},
   "outputs": [],
   "source": [
    "# rows list contains 1 row per month --> len(rows)\n",
    "number_of_months = len(rows)\n",
    "\n",
    "#print(\"Total number of months: %d\"%(number_of_months))"
   ]
  },
  {
   "cell_type": "markdown",
   "id": "7c81bbda-d6f9-4a87-b89d-59fd5b925cf0",
   "metadata": {},
   "source": [
    "## Question 2. The net total amount of Profit/Losses over the entire period."
   ]
  },
  {
   "cell_type": "code",
   "execution_count": 4,
   "id": "00218505-7c21-4db1-a0eb-c91e7940490f",
   "metadata": {},
   "outputs": [],
   "source": [
    "# Set variables \n",
    "total_PNL = 0\n",
    "\n",
    "# loop through rows and incrament total_PNL\n",
    "for row in rows:\n",
    "    #print(str(row[0]) + \" --- \" + str(row[1])+ \" --- \" + str(total_PNL))\n",
    "    total_PNL += int(row[1])\n",
    "\n",
    "#print(f\"Total PnL: {total_PNL}\")"
   ]
  },
  {
   "cell_type": "markdown",
   "id": "0c30a56b-caf4-4327-a78e-36ec4e7138e3",
   "metadata": {},
   "source": [
    "## Question 3. The average of the changes in Profit/Losses over the entire period."
   ]
  },
  {
   "cell_type": "code",
   "execution_count": 5,
   "id": "e3095d25-b7a4-48b3-8236-6ef0615ada0a",
   "metadata": {},
   "outputs": [],
   "source": [
    "# Simple Answer ( Last row - 1st row / number of rows -1) because all the rows in between cancel each other out (net 0).\n",
    "#print(len(rows))\n",
    "#print(rows[0])\n",
    "#print(rows[0][1])\n",
    "#print(rows[(len(rows)-1)])\n",
    "#print(rows[(len(rows)-1)][1])\n",
    "simple_average_change_PNL = ((int(rows[(len(rows)-1)][1])) - (int(rows[0][1])))/(len(rows)-1)\n",
    "#print(f\"Average Change: {simple_average_change_PNL}\") \n"
   ]
  },
  {
   "cell_type": "code",
   "execution_count": 6,
   "id": "fc546bd8-984f-461f-ae5b-87308d9e2943",
   "metadata": {},
   "outputs": [],
   "source": [
    "# Iterative approach\n",
    "\n",
    "# Set variables \n",
    "delta_PNL = 0\n",
    "current_month = 0\n",
    "future_month = 0\n",
    "average_change_PNL = 0\n",
    "\n",
    "# loop through rows (to second last row) and incrament deltaPNL with Future Row less Current Row\n",
    "for row in range(len(rows)-1):\n",
    "    current_month = rows[row][1]\n",
    "    future_month = rows[row + 1][1]\n",
    "    #print(str(row) + \" --- \" + str(currentMonth) + \" --- \" + str(futureMonth) + \" --- \" + str(deltaPNL))\n",
    "    delta_PNL += int(future_month) - int(current_month)\n",
    "\n",
    "average_change_PNL = delta_PNL/(len(rows)-1)\n",
    "#print(f\"Average Change: {average_change_PNL}\")"
   ]
  },
  {
   "cell_type": "markdown",
   "id": "c96a2646-9b12-43cd-8634-4bf681985823",
   "metadata": {},
   "source": [
    "## Question 4. The greatest increase in profits (date and amount) over the entire period.\n",
    "## Question 5. The greatest decrease in losses (date and amount) over the entire period."
   ]
  },
  {
   "cell_type": "code",
   "execution_count": 7,
   "id": "3e7abae3-58e6-4127-a16e-a6ab1d2237ba",
   "metadata": {},
   "outputs": [],
   "source": [
    "# Set variables \n",
    "max_profit = 0\n",
    "min_profit = 0\n",
    "max_row = 0\n",
    "min_row = 0\n",
    "count = 0\n",
    "delta_PNL = 0\n",
    "\n",
    "# loop through rows (from first to second last row) and identify 1) row with Max or Min and 2) delta Profit and Loss\n",
    "# Note: Equality Exclusion - If two different pair have the delta PnL then the first pair is stored, the second is ignored\n",
    "for row in range(len(rows)-1):\n",
    "    delta_PNL = int(rows[row + 1][1]) - int(rows[row][1])\n",
    "    if row == 0:                    # First pair is both max and min profit\n",
    "        max_profit = delta_PNL\n",
    "        max_row = row + 1\n",
    "        min_profit = max_profit\n",
    "        min_row = max_row\n",
    "    elif delta_PNL > max_profit:     # Determine if it is a new Max Profit\n",
    "        max_profit = delta_PNL\n",
    "        max_row = row + 1\n",
    "    elif delta_PNL < min_profit:     # Determinge if it is a new Min Profit \n",
    "        min_profit = delta_PNL\n",
    "        min_row = row + 1\n",
    "    #print (str(row) + \" --- \" + str(max_profit)+ \" --- \" + str(min_profit))\n",
    "\n",
    "#print(\"Greatest Increase in Profit: \" + str(rows[max_row][0]) + \" \" + str(max_profit))\n",
    "#print(\"Greatest Decrease in Profit: \" + str(rows[min_row][0]) + \" \" + str(min_profit))\n"
   ]
  },
  {
   "cell_type": "markdown",
   "id": "d3294c04-8f99-4d7b-a857-13ba5cd4866f",
   "metadata": {},
   "source": [
    "## Write Report to Text File"
   ]
  },
  {
   "cell_type": "code",
   "execution_count": 8,
   "id": "c9f3293f-12df-4d02-b8a4-b76913594ea0",
   "metadata": {},
   "outputs": [],
   "source": [
    "with open(\"FinancialAnalysis.txt\", mode = \"w\") as f:\n",
    "    f.write(\"Financial Analysis\")\n",
    "    f.write(\"\\n------------------------------------\")\n",
    "    f.write(f\"\\nTotal Months: {number_of_months}\")\n",
    "    f.write(f\"\\nTotal: \" + \"${:.0f}\".format(total_PNL))\n",
    "    f.write(f\"\\nAverage Change: \" + \"${:.2f}\".format(round(average_change_PNL,2)))\n",
    "    f.write(f\"\\nGreatest Increase in Profits: \" + str(rows[max_row][0]) + \" (\" + \"${:.0f}\".format(max_profit) + \")\")\n",
    "    f.write(f\"\\nGreatest Decrease in Profits: \" + str(rows[min_row][0]) + \" (\" + \"${:.0f}\".format(min_profit) + \")\")\n",
    "    "
   ]
  },
  {
   "cell_type": "markdown",
   "id": "85588310-8ee0-4391-af2c-2da55720db31",
   "metadata": {},
   "source": [
    "## Write Report to Screen"
   ]
  },
  {
   "cell_type": "code",
   "execution_count": 9,
   "id": "3a344572-1e89-4e41-867e-a5a97a220a52",
   "metadata": {},
   "outputs": [
    {
     "name": "stdout",
     "output_type": "stream",
     "text": [
      "Financial Analysis\n",
      "------------------------------------\n",
      "Total Months: 86\n",
      "Total: $38382578\n",
      "Average Change: $-2315.12\n",
      "Greatest Increase in Profits: Feb-2012 ($1926159)\n",
      "Greatest Decrease in Profits: Sep-2013 ($-2196167)\n"
     ]
    }
   ],
   "source": [
    "print(\"Financial Analysis\")\n",
    "print(\"------------------------------------\")\n",
    "print(f\"Total Months: {number_of_months}\")\n",
    "print(f\"Total: \" + \"${:.0f}\".format(total_PNL))\n",
    "print(f\"Average Change: \" + \"${:.2f}\".format(round(average_change_PNL,2)))\n",
    "print(f\"Greatest Increase in Profits: \" + str(rows[max_row][0]) + \" (\" + \"${:.0f}\".format(max_profit) + \")\")\n",
    "print(f\"Greatest Decrease in Profits: \" + str(rows[min_row][0]) + \" (\" + \"${:.0f}\".format(min_profit) + \")\")"
   ]
  }
 ],
 "metadata": {
  "kernelspec": {
   "display_name": "Python 3 (ipykernel)",
   "language": "python",
   "name": "python3"
  },
  "language_info": {
   "codemirror_mode": {
    "name": "ipython",
    "version": 3
   },
   "file_extension": ".py",
   "mimetype": "text/x-python",
   "name": "python",
   "nbconvert_exporter": "python",
   "pygments_lexer": "ipython3",
   "version": "3.8.3"
  }
 },
 "nbformat": 4,
 "nbformat_minor": 5
}
